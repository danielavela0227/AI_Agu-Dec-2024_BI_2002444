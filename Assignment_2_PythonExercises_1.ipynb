{
  "nbformat": 4,
  "nbformat_minor": 0,
  "metadata": {
    "colab": {
      "provenance": [],
      "authorship_tag": "ABX9TyP0rJimr7aY1aTC4QXXI87w",
      "include_colab_link": true
    },
    "kernelspec": {
      "name": "python3",
      "display_name": "Python 3"
    },
    "language_info": {
      "name": "python"
    }
  },
  "cells": [
    {
      "cell_type": "markdown",
      "metadata": {
        "id": "view-in-github",
        "colab_type": "text"
      },
      "source": [
        "<a href=\"https://colab.research.google.com/github/danielavela0227/AI_Agu-Dec-2024_BI_2002444/blob/main/Assignment_2_PythonExercises_1.ipynb\" target=\"_parent\"><img src=\"https://colab.research.google.com/assets/colab-badge.svg\" alt=\"Open In Colab\"/></a>"
      ]
    },
    {
      "cell_type": "code",
      "source": [
        "#Text Analysis Tool: Create a Python program that reads a text file and performs various analyses on its content. The program should: Count the number of words, sentences, and paragraphs. Calculate the average word length. Identify the most common words and their frequencies.\n",
        "# Daniela Lizeth Vela Carrillo 2002444\n",
        "\n",
        "# Open the file and read the text content\n",
        "with open('/content/text_example.txt', 'r') as file:\n",
        "    text = file.read()\n",
        "\n",
        "def analyze_text(text): # Function to count words, sentences, paragraphs, and calculate the average word length\n",
        "    words = text.split() # Count the number of words\n",
        "    word_count = len(words)\n",
        "    paragraph_count = text.count('\\n\\n') + 1 # Count the number of paragraphs (assuming two consecutive new lines '\\n\\n')\n",
        "    sentence_count = text.count('.') # Count the number of sentences (using periods as sentence end indicators)\n",
        "\n",
        "    total_word_length = sum(len(word) for word in words) # Calculate the average word length\n",
        "    average_word_length = total_word_length / word_count if word_count > 0 else 0\n",
        "\n",
        "    return word_count, paragraph_count, sentence_count, average_word_length\n",
        "\n",
        "# Function to find the most common words in the text\n",
        "def most_common_words(words, n=7):\n",
        "    word_frequency = {} # Create a dictionary to count the frequency of each word\n",
        "    for word in words:\n",
        "        if word in word_frequency:\n",
        "            word_frequency[word] += 1\n",
        "        else:\n",
        "            word_frequency[word] = 1\n",
        "\n",
        "    sorted_words = sorted(word_frequency.items(), key=lambda x: x[1], reverse=True) # Sort words by frequency in descending order\n",
        "\n",
        "    return sorted_words[:n]\n",
        "\n",
        "word_count, paragraph_count, sentence_count, average_word_length = analyze_text(text) # Analyze text statistics\n",
        "\n",
        "words = text.split() # Find the most common words\n",
        "frequent_words = most_common_words(words)\n",
        "\n",
        "# Display the results\n",
        "print('Text Analysis Tool\\n')\n",
        "print('Word count: ', word_count)\n",
        "print('Sentence count: ', sentence_count)\n",
        "print('Paragraph count: ', paragraph_count)\n",
        "print(f\"Average word length: {average_word_length:.2f}\")\n",
        "print('Most common words:')\n",
        "for word, frequency in frequent_words:\n",
        "    print(f\"  '{word}' --> {frequency} times in the text\")\n"
      ],
      "metadata": {
        "colab": {
          "base_uri": "https://localhost:8080/"
        },
        "id": "lqViKSGG7DFM",
        "outputId": "10c3b2ad-b671-4caf-eeb2-ceb1efb1ef32"
      },
      "execution_count": 5,
      "outputs": [
        {
          "output_type": "stream",
          "name": "stdout",
          "text": [
            "Text Analysis Tool\n",
            "\n",
            "Word count:  395\n",
            "Sentence count:  19\n",
            "Paragraph count:  6\n",
            "Average word length: 5.28\n",
            "Most common words:\n",
            "  'de' --> 24 times in the text\n",
            "  'los' --> 19 times in the text\n",
            "  'la' --> 14 times in the text\n",
            "  'que' --> 14 times in the text\n",
            "  'y' --> 10 times in the text\n",
            "  'en' --> 9 times in the text\n",
            "  'el' --> 8 times in the text\n"
          ]
        }
      ]
    },
    {
      "cell_type": "code",
      "source": [
        "from google.colab import drive\n",
        "drive.mount('/content/drive')"
      ],
      "metadata": {
        "id": "7WwJFJkqOJgJ"
      },
      "execution_count": null,
      "outputs": []
    },
    {
      "cell_type": "code",
      "source": [
        "# Hangman Game: Create a Python program that allows a user to play the game of Hangman. The program should randomly select a word from a predefined list, and the player must guess letters one at a time until they guess the word correctly or run out of attempts.\n",
        "# Daniela Lizeth Vela Carrillo 2002444\n",
        "\n",
        "import random # Import the random library to choose a random word.\n",
        "import time\n",
        "\n",
        "print(\"Hi, its time to play Hangman Game\")\n",
        "print(\" \")\n",
        "time.sleep(1)\n",
        "print(\"Start guessing\")\n",
        "print(\" \")\n",
        "time.sleep(0.5)\n",
        "\n",
        "def get_word(): # Define a function to get a random word.\n",
        "  words = [\"purple\", \"intelligence\", \"artifitial\", \"science\", \"data\"] # List of possible words.\n",
        "  return random.choice(words) # Choose a random word from the list and return it.\n",
        "\n",
        "def play_hangman(): # Define the main function of the game.\n",
        "  word = get_word() # Get a random word.\n",
        "  guessed_letters = [] # Initialize an empty list to store guessed letters.\n",
        "  attempts = 8 # Initialize the number of attempts.\n",
        "\n",
        "  while attempts > 0: # Start a loop that continues while there are attempts left.\n",
        "    current_state = \"\" # Initialize an empty string to display the current state of the word.\n",
        "    missing_letters = 0 # Initialize a counter for missing letters.\n",
        "    for letter in word: # Iterate over each letter in the word.\n",
        "      if letter in guessed_letters: # Check if the letter has already been guessed.\n",
        "        current_state += letter # If it was guessed, add it to the current state.\n",
        "      else:\n",
        "        current_state += \"_\" # If it was not guessed, add an underscore.\n",
        "        missing_letters += 1 # Increment the missing letters counter.\n",
        "\n",
        "    print(current_state) # Print the current state of the word.\n",
        "\n",
        "    if missing_letters == 0: # Check if all letters have been guessed.\n",
        "      print(\"You won! The word was:\", word) # Print a victory message.\n",
        "      return # End the function.\n",
        "\n",
        "    letter = input(\"Guess a letter: \").lower() # Prompt the player to guess a letter and convert it to lowercase.\n",
        "    if letter in guessed_letters: # Check if the letter has already been guessed.\n",
        "      print(\"You already guessed that letter. Try another one.\") # Print a message.\n",
        "    elif letter in word: # Check if the letter is in the word.\n",
        "      print(\"Correct!\") # Print a success message.\n",
        "      guessed_letters.append(letter) # Add the letter to the list of guessed letters.\n",
        "    else:\n",
        "      print(\"Incorrect.\") # Print an error message.\n",
        "      guessed_letters.append(letter) # Add the letter to the list of guessed letters (to prevent guessing it again).\n",
        "      attempts -= 1 # Reduce the number of attempts.\n",
        "      print(\"You have\", attempts, \"attempts left.\") # Print the number of attempts remaining.\n",
        "\n",
        "  print(\"You lost. The word was:\", word) # Print a defeat message and the correct word.\n",
        "\n",
        "play_hangman() # Call the function to start the game."
      ],
      "metadata": {
        "colab": {
          "base_uri": "https://localhost:8080/"
        },
        "id": "selGGwA1_TS-",
        "outputId": "bea09e28-75dd-45a1-b95d-fb7d18de60ec"
      },
      "execution_count": 22,
      "outputs": [
        {
          "output_type": "stream",
          "name": "stdout",
          "text": [
            "Hi, its time to play Hangman Game\n",
            " \n",
            "Start guessing\n",
            " \n",
            "______\n",
            "Guess a letter: a\n",
            "Incorrect.\n",
            "You have 7 attempts left.\n",
            "______\n",
            "Guess a letter: e\n",
            "Correct!\n",
            "_____e\n",
            "Guess a letter: n\n",
            "Incorrect.\n",
            "You have 6 attempts left.\n",
            "_____e\n",
            "Guess a letter: s\n",
            "Incorrect.\n",
            "You have 5 attempts left.\n",
            "_____e\n",
            "Guess a letter: p\n",
            "Correct!\n",
            "p__p_e\n",
            "Guess a letter: u\n",
            "Correct!\n",
            "pu_p_e\n",
            "Guess a letter: r\n",
            "Correct!\n",
            "purp_e\n",
            "Guess a letter: l\n",
            "Correct!\n",
            "purple\n",
            "You won! The word was: purple\n"
          ]
        }
      ]
    },
    {
      "cell_type": "code",
      "source": [
        "#Number Guessing Game: Create a program that generates a random number between 1 and 100, and then asks the user to guess the number. The program should provide hints to the user if the guessed number is greater or less than the target number, and keep asking for a new guess until the user guesses correctly.\n",
        "# Daniela Lizeth Vela Carrillo 2002444\n",
        "\n",
        "import random  # This line imports Python's random module, which contains functions to generate random numbers.\n",
        "\n",
        "def guess_the_number():  # Defines a function called guess_the_number(). All the game-related code will be inside this function.\n",
        "    target_number = random.randint(1, 100)  # Here, a random number between 1 and 100 is generated using random.randint(1, 100). This is the number the player must guess. It is stored in the target_number variable.\n",
        "    attempts = 0  # Initializes an attempts variable to 0. This variable will keep track of how many attempts the player makes to guess the number.\n",
        "\n",
        "    print(\"Welcome to the number guessing game!\")\n",
        "    print(\"I'm thinking of a number between 1 and 100. Can you guess what it is?\")\n",
        "\n",
        "    while True:  # Starts an infinite loop with while True. The loop will continue until the player correctly guesses the number, at which point it will break with a break statement.\n",
        "        try:  # This structure is used to handle exceptions, specifically to ensure that the player enters a valid number.\n",
        "            guess = int(input(\"Enter your guess: \"))  # The player is asked to input a number. The guess variable will store the player's guess.\n",
        "            attempts += 1  # Increases the attempts variable by 1 each time the player enters a number, counting the number of guesses.\n",
        "\n",
        "            if guess < target_number:\n",
        "                print(\"The target number is higher. Keep trying!\")\n",
        "            elif guess > target_number:\n",
        "                print(\"The target number is lower. Keep trying!\")\n",
        "            else:  # If the guess is equal to the target number (else condition), a congratulatory message is printed, showing the correct number and the number of attempts. Then the break ends the loop, finishing the game.\n",
        "                print(f\"Congratulations! You guessed the number {target_number} in {attempts} attempts.\")\n",
        "                break\n",
        "        except ValueError:  # If the player enters something that can't be converted into an integer (like a letter), a ValueError exception is raised, and a message is printed indicating that a valid number should be entered.\n",
        "            print(\"Please enter a valid number.\")\n",
        "\n",
        "if __name__ == \"__main__\": #It serves to ensure that the guess_the_number() function is only executed when the script is executed directly, and not when it is imported as a module into another script.\n",
        "    guess_the_number()\n"
      ],
      "metadata": {
        "colab": {
          "base_uri": "https://localhost:8080/"
        },
        "id": "WbKWcYH_zjaW",
        "outputId": "b34c1211-d6bd-4cfe-f173-61c338c579c5"
      },
      "execution_count": 1,
      "outputs": [
        {
          "output_type": "stream",
          "name": "stdout",
          "text": [
            "Welcome to the number guessing game!\n",
            "I'm thinking of a number between 1 and 100. Can you guess what it is?\n",
            "Enter your guess: 50\n",
            "The target number is lower. Keep trying!\n",
            "Enter your guess: 30\n",
            "The target number is lower. Keep trying!\n",
            "Enter your guess: 21\n",
            "The target number is lower. Keep trying!\n",
            "Enter your guess: 18\n",
            "The target number is lower. Keep trying!\n",
            "Enter your guess: 15\n",
            "The target number is lower. Keep trying!\n",
            "Enter your guess: 10\n",
            "The target number is lower. Keep trying!\n",
            "Enter your guess: 6\n",
            "The target number is lower. Keep trying!\n",
            "Enter your guess: 2\n",
            "The target number is higher. Keep trying!\n",
            "Enter your guess: 4\n",
            "The target number is lower. Keep trying!\n",
            "Enter your guess: 3\n",
            "Congratulations! You guessed the number 3 in 10 attempts.\n"
          ]
        }
      ]
    }
  ]
}