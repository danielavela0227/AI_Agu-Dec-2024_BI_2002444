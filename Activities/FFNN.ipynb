{
  "nbformat": 4,
  "nbformat_minor": 0,
  "metadata": {
    "colab": {
      "provenance": [],
      "authorship_tag": "ABX9TyNwSfmHZQ0l/yAicz1h3sey",
      "include_colab_link": true
    },
    "kernelspec": {
      "name": "python3",
      "display_name": "Python 3"
    },
    "language_info": {
      "name": "python"
    }
  },
  "cells": [
    {
      "cell_type": "markdown",
      "metadata": {
        "id": "view-in-github",
        "colab_type": "text"
      },
      "source": [
        "<a href=\"https://colab.research.google.com/github/danielavela0227/AI_Agu-Dec-2024_BI_2002444/blob/main/FFNN.ipynb\" target=\"_parent\"><img src=\"https://colab.research.google.com/assets/colab-badge.svg\" alt=\"Open In Colab\"/></a>"
      ]
    },
    {
      "cell_type": "markdown",
      "source": [
        "Daniela Lizeth Vela Carrillo 2002444\n",
        "\n",
        "Biomedical Engineering - AI\n",
        "\n",
        "Class Time: Thursday N4N6"
      ],
      "metadata": {
        "id": "CcZDFDT6QKbX"
      }
    },
    {
      "cell_type": "markdown",
      "source": [
        "**Assignment 6. Artificial Neural Network: feedforward.** The student will train a Feedforward Neural Network model in Google Colab using the Python programming language. This model will use the MNIST dataset; this dataset contains low-resolution images with handwritten digits from 0 to 9. The dataset is part of the Keras library."
      ],
      "metadata": {
        "id": "LEJFqf3RQTxQ"
      }
    },
    {
      "cell_type": "markdown",
      "source": [
        "Step 1. Load libraries."
      ],
      "metadata": {
        "id": "1xLwk3T4QdzO"
      }
    },
    {
      "cell_type": "code",
      "execution_count": 19,
      "metadata": {
        "id": "uBsPbSLtFFfo"
      },
      "outputs": [],
      "source": [
        "import tensorflow as tf\n",
        "from tensorflow.keras.datasets import mnist\n",
        "import matplotlib.pyplot as plt\n",
        "import numpy as np"
      ]
    },
    {
      "cell_type": "markdown",
      "source": [
        "Step 2. Load data."
      ],
      "metadata": {
        "id": "LyZ-cAFwSba8"
      }
    },
    {
      "cell_type": "code",
      "source": [
        "#MNIST dataset\n",
        "(train_data, train_labels), (test_data, test_labels) = mnist.load_data()"
      ],
      "metadata": {
        "id": "TBY1eIolLR7w"
      },
      "execution_count": 20,
      "outputs": []
    },
    {
      "cell_type": "markdown",
      "source": [
        "Step 3. Data preprocessing."
      ],
      "metadata": {
        "id": "csQUrF9DV3Lw"
      }
    },
    {
      "cell_type": "code",
      "source": [
        "#Reshape and normalize the images\n",
        "train_data = train_data.reshape((60000, 28 * 28)).astype('float32') / 255\n",
        "test_data = test_data.reshape((10000, 28 * 28)).astype('float32') / 255"
      ],
      "metadata": {
        "id": "iWEzF__YLcmh"
      },
      "execution_count": 21,
      "outputs": []
    },
    {
      "cell_type": "code",
      "source": [
        "#One-hot encode the labels\n",
        "train_labels = tf.keras.utils.to_categorical(train_labels)\n",
        "test_labels = tf.keras.utils.to_categorical(test_labels)"
      ],
      "metadata": {
        "id": "xpbv4IvQMFWQ"
      },
      "execution_count": 22,
      "outputs": []
    },
    {
      "cell_type": "markdown",
      "source": [
        "Step 4. Model selection and training."
      ],
      "metadata": {
        "id": "0FWxPFOSXTvI"
      }
    },
    {
      "cell_type": "code",
      "source": [
        "# Define the FNN model\n",
        "model = tf.keras.models.Sequential([\n",
        "    tf.keras.layers.Dense(256, activation='relu', input_shape=(28 * 28,)),\n",
        "    tf.keras.layers.Dropout(0.5),  # Add dropout for regularization\n",
        "    tf.keras.layers.Dense(128, activation='relu'),\n",
        "    tf.keras.layers.Dropout(0.5),  # Add dropout for regularization\n",
        "    tf.keras.layers.Dense(10, activation='softmax')\n",
        "])"
      ],
      "metadata": {
        "colab": {
          "base_uri": "https://localhost:8080/"
        },
        "id": "sL-mLMdmMMH3",
        "outputId": "e4eb5abf-7439-407f-91c5-4970bbc667dd"
      },
      "execution_count": 23,
      "outputs": [
        {
          "output_type": "stream",
          "name": "stderr",
          "text": [
            "/usr/local/lib/python3.10/dist-packages/keras/src/layers/core/dense.py:87: UserWarning: Do not pass an `input_shape`/`input_dim` argument to a layer. When using Sequential models, prefer using an `Input(shape)` object as the first layer in the model instead.\n",
            "  super().__init__(activity_regularizer=activity_regularizer, **kwargs)\n"
          ]
        }
      ]
    },
    {
      "cell_type": "code",
      "source": [
        "# Compile the FNN model\n",
        "model.compile(optimizer='rmsprop',\n",
        "              loss='categorical_crossentropy',\n",
        "              metrics=['accuracy'])"
      ],
      "metadata": {
        "id": "xgm6XrUkMaom"
      },
      "execution_count": 24,
      "outputs": []
    },
    {
      "cell_type": "code",
      "source": [
        "# Train the model\n",
        "history = model.fit(train_data, train_labels, epochs=5, batch_size=512)"
      ],
      "metadata": {
        "colab": {
          "base_uri": "https://localhost:8080/"
        },
        "id": "DyYJQkYQMgWN",
        "outputId": "baea2890-03a1-475e-b70e-0c7b095adf75"
      },
      "execution_count": 25,
      "outputs": [
        {
          "output_type": "stream",
          "name": "stdout",
          "text": [
            "Epoch 1/5\n",
            "\u001b[1m118/118\u001b[0m \u001b[32m━━━━━━━━━━━━━━━━━━━━\u001b[0m\u001b[37m\u001b[0m \u001b[1m3s\u001b[0m 16ms/step - accuracy: 0.6576 - loss: 1.0565\n",
            "Epoch 2/5\n",
            "\u001b[1m118/118\u001b[0m \u001b[32m━━━━━━━━━━━━━━━━━━━━\u001b[0m\u001b[37m\u001b[0m \u001b[1m3s\u001b[0m 17ms/step - accuracy: 0.9032 - loss: 0.3342\n",
            "Epoch 3/5\n",
            "\u001b[1m118/118\u001b[0m \u001b[32m━━━━━━━━━━━━━━━━━━━━\u001b[0m\u001b[37m\u001b[0m \u001b[1m3s\u001b[0m 17ms/step - accuracy: 0.9256 - loss: 0.2611\n",
            "Epoch 4/5\n",
            "\u001b[1m118/118\u001b[0m \u001b[32m━━━━━━━━━━━━━━━━━━━━\u001b[0m\u001b[37m\u001b[0m \u001b[1m3s\u001b[0m 23ms/step - accuracy: 0.9406 - loss: 0.2062\n",
            "Epoch 5/5\n",
            "\u001b[1m118/118\u001b[0m \u001b[32m━━━━━━━━━━━━━━━━━━━━\u001b[0m\u001b[37m\u001b[0m \u001b[1m3s\u001b[0m 24ms/step - accuracy: 0.9495 - loss: 0.1783\n"
          ]
        }
      ]
    },
    {
      "cell_type": "markdown",
      "source": [
        "Step 5. Model testing."
      ],
      "metadata": {
        "id": "YeE9VP-NZtwi"
      }
    },
    {
      "cell_type": "code",
      "source": [
        "# Evaluate the model performance.\n",
        "test_loss, test_acc = model.evaluate(test_data, test_labels)\n",
        "print('Test accuracy:', test_acc)"
      ],
      "metadata": {
        "colab": {
          "base_uri": "https://localhost:8080/"
        },
        "id": "O8FAFfHRM45f",
        "outputId": "a7815c22-7e4a-470c-fa12-bff880dc02ab"
      },
      "execution_count": 26,
      "outputs": [
        {
          "output_type": "stream",
          "name": "stdout",
          "text": [
            "\u001b[1m313/313\u001b[0m \u001b[32m━━━━━━━━━━━━━━━━━━━━\u001b[0m\u001b[37m\u001b[0m \u001b[1m1s\u001b[0m 2ms/step - accuracy: 0.9641 - loss: 0.1201\n",
            "Test accuracy: 0.9690999984741211\n"
          ]
        }
      ]
    },
    {
      "cell_type": "code",
      "source": [
        "# Select five random indices from the test set\n",
        "random_indices = np.random.choice(len(test_data), 5, replace=False)\n",
        "\n",
        "# Perform predictions\n",
        "predictions = model.predict(test_data[random_indices])\n",
        "actual_labels = test_labels[random_indices]\n",
        "\n",
        "for i in range(5):\n",
        "    predicted_label = tf.argmax(predictions[i]).numpy()\n",
        "    actual_label = tf.argmax(actual_labels[i]).numpy()\n",
        "    print(\"Prediction:\", predicted_label, \"Actual:\", actual_label)\n",
        "\n",
        "    # Display the image\n",
        "    plt.imshow(test_data[random_indices[i]].reshape(28, 28), cmap='gray')\n",
        "    plt.title(f\"Predicted: {predicted_label}, Actual: {actual_label}\")\n",
        "    plt.axis('off')\n",
        "    plt.show()"
      ],
      "metadata": {
        "colab": {
          "base_uri": "https://localhost:8080/",
          "height": 1000
        },
        "id": "f45N-XzmNEla",
        "outputId": "79a82534-e295-4f2b-9145-68c136292dde"
      },
      "execution_count": 31,
      "outputs": [
        {
          "output_type": "stream",
          "name": "stdout",
          "text": [
            "\u001b[1m1/1\u001b[0m \u001b[32m━━━━━━━━━━━━━━━━━━━━\u001b[0m\u001b[37m\u001b[0m \u001b[1m0s\u001b[0m 21ms/step\n",
            "Prediction: 6 Actual: 6\n"
          ]
        },
        {
          "output_type": "display_data",
          "data": {
            "text/plain": [
              "<Figure size 640x480 with 1 Axes>"
            ],
            "image/png": "[encoded data removed]"
          },
          "metadata": {}
        },
        {
          "output_type": "stream",
          "name": "stdout",
          "text": [
            "Prediction: 0 Actual: 0\n"
          ]
        },
        {
          "output_type": "display_data",
          "data": {
            "text/plain": [
              "<Figure size 640x480 with 1 Axes>"
            ],
            "image/png": "[encoded data removed]"
          },
          "metadata": {}
        },
        {
          "output_type": "stream",
          "name": "stdout",
          "text": [
            "Prediction: 3 Actual: 3\n"
          ]
        },
        {
          "output_type": "display_data",
          "data": {
            "text/plain": [
              "<Figure size 640x480 with 1 Axes>"
            ],
            "image/png": "[encoded data removed]"
          },
          "metadata": {}
        },
        {
          "output_type": "stream",
          "name": "stdout",
          "text": [
            "Prediction: 1 Actual: 1\n"
          ]
        },
        {
          "output_type": "display_data",
          "data": {
            "text/plain": [
              "<Figure size 640x480 with 1 Axes>"
            ],
            "image/png": "[encoded data removed]"
          },
          "metadata": {}
        },
        {
          "output_type": "stream",
          "name": "stdout",
          "text": [
            "Prediction: 4 Actual: 4\n"
          ]
        },
        {
          "output_type": "display_data",
          "data": {
            "text/plain": [
              "<Figure size 640x480 with 1 Axes>"
            ],
            "image/png": "[encoded data removed]"
          },
          "metadata": {}
        }
      ]
    }
  ]
}
