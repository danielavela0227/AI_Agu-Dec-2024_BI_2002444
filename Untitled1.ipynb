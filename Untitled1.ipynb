{
  "nbformat": 4,
  "nbformat_minor": 0,
  "metadata": {
    "colab": {
      "provenance": [],
      "authorship_tag": "ABX9TyOeT4SdamuLUVcvkyS680yW",
      "include_colab_link": true
    },
    "kernelspec": {
      "name": "python3",
      "display_name": "Python 3"
    },
    "language_info": {
      "name": "python"
    }
  },
  "cells": [
    {
      "cell_type": "markdown",
      "metadata": {
        "id": "view-in-github",
        "colab_type": "text"
      },
      "source": [
        "<a href=\"https://colab.research.google.com/github/danielavela0227/AI_Agu-Dec-2024_BI_2002444/blob/main/Untitled1.ipynb\" target=\"_parent\"><img src=\"https://colab.research.google.com/assets/colab-badge.svg\" alt=\"Open In Colab\"/></a>"
      ]
    },
    {
      "cell_type": "markdown",
      "source": [
        "\n",
        "**Assignment 4.- Linear regression.**\n",
        "The student will generate a linear regression model in Google Colab using the Python programming language. This model will predict the price of a house taking into account the medium income of the zone.\n"
      ],
      "metadata": {
        "id": "P9qz_9rgYjCt"
      }
    },
    {
      "cell_type": "markdown",
      "source": [
        "Step 1. Load libraries\n",
        "\n"
      ],
      "metadata": {
        "id": "0L-SF3HFZK3G"
      }
    },
    {
      "cell_type": "code",
      "execution_count": null,
      "metadata": {
        "id": "_RB-TpdjYPtx"
      },
      "outputs": [],
      "source": []
    }
  ]
}